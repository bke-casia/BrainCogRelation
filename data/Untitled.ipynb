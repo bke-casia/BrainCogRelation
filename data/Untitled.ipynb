{
 "cells": [
  {
   "cell_type": "code",
   "execution_count": 1,
   "metadata": {},
   "outputs": [],
   "source": [
    "import json\n",
    "with open(\"train.v1.json\",\"r\") as f:\n",
    "    data=json.load(f)"
   ]
  },
  {
   "cell_type": "code",
   "execution_count": 24,
   "metadata": {},
   "outputs": [],
   "source": [
    "c=0\n",
    "o=[]\n",
    "for i,s in enumerate(data):\n",
    "    if s[\"relation\"]!=\"1\":\n",
    "        continue\n",
    "    if (s[\"head\"][\"word\"] in [\"basal ganglia\"] and s[\"tail\"][\"word\"] in [\"prefrontal cortex\"]):\n",
    "        if \"working memory\" in s[\"sentence\"]:\n",
    "            rs=\"start: %s -> %s ### %s\" % (s[\"head\"][\"word\"], s[\"tail\"][\"word\"], s[\"sentence\"])\n",
    "            o.append(rs)\n",
    "        c+=1\n",
    "#     if c>100:\n",
    "#         break\n",
    "with open(\"res.txt\",\"w\") as f:\n",
    "    f.write(\"\\n\".join(o))"
   ]
  },
  {
   "cell_type": "code",
   "execution_count": 22,
   "metadata": {},
   "outputs": [
    {
     "data": {
      "text/plain": [
       "{'head': {'type': 'REGION', 'word': 'a1', 'id': 'a1'},\n",
       " 'tail': {'type': 'REGION', 'word': 'alpha', 'id': 'alpha'},\n",
       " 'relation': '1',\n",
       " 'sentence': 'after 60xe2x80x89days of feeding , intestinal ba uptake and expression of apical sodium-dependent bile acid transporter ( asbt ) , organic solute transporter-alpha/beta ( osta/b ) messenger rna ( mrna ) , and hepatic expression of na+ taurocholate cotransporting polypeptide ( ntcp ) , bile salt export pump ( bsep ) , cholesterol 7-xcexb1 hydroxylase a1 ( cyp7a1 ) , farnesoid x receptor ( fxr ) , small heterodimer partner-1 ( shp ) , liver receptor homolog-1 ( lrh-1 ) , and hepatic nuclear factor-4 alpha ( hnf4a ) mrna were measured .',\n",
       " 'docid': '30740707'}"
      ]
     },
     "execution_count": 22,
     "metadata": {},
     "output_type": "execute_result"
    }
   ],
   "source": [
    "data[1]"
   ]
  },
  {
   "cell_type": "code",
   "execution_count": null,
   "metadata": {},
   "outputs": [],
   "source": []
  }
 ],
 "metadata": {
  "kernelspec": {
   "display_name": "Python 3",
   "language": "python",
   "name": "python3"
  },
  "language_info": {
   "codemirror_mode": {
    "name": "ipython",
    "version": 3
   },
   "file_extension": ".py",
   "mimetype": "text/x-python",
   "name": "python",
   "nbconvert_exporter": "python",
   "pygments_lexer": "ipython3",
   "version": "3.6.9"
  }
 },
 "nbformat": 4,
 "nbformat_minor": 2
}
